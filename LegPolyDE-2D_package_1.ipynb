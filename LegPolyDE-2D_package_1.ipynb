{
 "cells": [
  {
   "cell_type": "markdown",
   "metadata": {},
   "source": [
    "# ORTHOGONAL POLYNOMIAL DENSITY ESTIMATION\n",
    "## Preliminaries\n",
    "### Imports"
   ]
  },
  {
   "cell_type": "code",
   "execution_count": 1,
   "metadata": {
    "collapsed": true
   },
   "outputs": [],
   "source": [
    "import numpy as np\n",
    "import matplotlib.pyplot as plt\n",
    "import seaborn as sbn\n",
    "import pandas as pd\n",
    "from uuid import uuid4\n",
    "\n",
    "from lpde.geometry import WidthOf, Window, PointAt, BoundingBox, Mapper\n",
    "from lpde.estimate import DensityEstimate\n",
    "from lpde.estimate.helpers import Event, Degree, Action"
   ]
  },
  {
   "cell_type": "markdown",
   "metadata": {},
   "source": [
    "### Notebook settings"
   ]
  },
  {
   "cell_type": "code",
   "execution_count": 2,
   "metadata": {},
   "outputs": [],
   "source": [
    "%matplotlib notebook\n",
    "sbn.set_style('white')\n",
    "\n",
    "legend_params = {'loc': 'best',\n",
    "                 'frameon': True, \n",
    "                 'fancybox': True, \n",
    "                 'framealpha': 0.7}"
   ]
  },
  {
   "cell_type": "code",
   "execution_count": 7,
   "metadata": {
    "collapsed": true
   },
   "outputs": [],
   "source": [
    "legendre_width = WidthOf(1.8)\n",
    "\n",
    "center = PointAt(0, 0)\n",
    "window = Window(1.8, 1.8)\n",
    "bounds = BoundingBox(center, window)\n",
    "\n",
    "mapper = Mapper(bounds, legendre_width)\n",
    "\n",
    "degree = Degree(20, 20)\n",
    "density = DensityEstimate(degree, mapper)\n",
    "\n",
    "action = Action.ADD\n",
    "point = PointAt(0.5, 0.5)\n",
    "event = Event(uuid4(), action, point)"
   ]
  },
  {
   "cell_type": "code",
   "execution_count": 8,
   "metadata": {
    "collapsed": true
   },
   "outputs": [],
   "source": [
    "def multi_norm():\n",
    "    x, y = np.random.multivariate_normal((0,0), ((0.1,0), (0,0.1)))\n",
    "    if (-0.9 <= x <= 0.9) and (-0.9 <= y <= 0.9):\n",
    "        return x, y\n",
    "    else:\n",
    "        return multi_norm()\n",
    "\n",
    "def multi_uniform():\n",
    "    return np.random.uniform(low=-0.9, high=0.9, size=2)\n",
    "\n",
    "def new_event():\n",
    "    location = multi_uniform()\n",
    "    point = PointAt(*location)\n",
    "    return Event(uuid4(), Action(1), point)\n",
    "\n",
    "def random_event():\n",
    "    event_type = np.random.randint(low=-1, high=2)\n",
    "    if event_type == 1:\n",
    "        location = multi_uniform()\n",
    "        point = PointAt(*location)\n",
    "        return Event(uuid4(), Action(1), point)\n",
    "    elif event_type == 0:\n",
    "        location = multi_uniform()\n",
    "        point = PointAt(*location)\n",
    "        column = density._phi.sample(1, axis=1).columns.values[0]\n",
    "        return Event(column, Action(0), point)\n",
    "    column = density._phi.sample(1, axis=1).columns.values[0]\n",
    "    return Event(column, Action(-1))"
   ]
  },
  {
   "cell_type": "code",
   "execution_count": 9,
   "metadata": {},
   "outputs": [
    {
     "name": "stderr",
     "output_type": "stream",
     "text": [
      "/home/georg/Documents/Python/LPDE/lpde/estimate/estimator.py:88: RuntimeWarning: overflow encountered in double_scalars\n",
      "  c[0] * (c[1:].dot(c[1:]) - 1.0)\n",
      "/home/georg/Documents/Python/LPDE/lpde/estimate/estimator.py:87: RuntimeWarning: overflow encountered in square\n",
      "  return -log(square(c[1:].dot(self.__phi_ijn))).sum() + \\\n",
      "/home/georg/Documents/Python/LPDE/lpde/estimate/estimator.py:93: RuntimeWarning: overflow encountered in multiply\n",
      "  c[1:].dot(self.__phi_ijn)).sum(axis=1) + 2.0*c[0]*c[1:]\n"
     ]
    },
    {
     "name": "stdout",
     "output_type": "stream",
     "text": [
      "CPU times: user 9min 31s, sys: 11.2 s, total: 9min 42s\n",
      "Wall time: 1min 2s\n"
     ]
    }
   ],
   "source": [
    "%%time\n",
    "for i in range(1000):\n",
    "    density.update_with(new_event())"
   ]
  },
  {
   "cell_type": "code",
   "execution_count": 10,
   "metadata": {},
   "outputs": [
    {
     "data": {
      "text/plain": [
       "13"
      ]
     },
     "execution_count": 10,
     "metadata": {},
     "output_type": "execute_result"
    }
   ],
   "source": [
    "density._number_of_fallbacks"
   ]
  },
  {
   "cell_type": "code",
   "execution_count": 11,
   "metadata": {},
   "outputs": [
    {
     "name": "stdout",
     "output_type": "stream",
     "text": [
      "CPU times: user 14min 1s, sys: 16.4 s, total: 14min 17s\n",
      "Wall time: 1min 11s\n"
     ]
    }
   ],
   "source": [
    "%%time\n",
    "for i in range(1000):\n",
    "    density.update_with(random_event())"
   ]
  },
  {
   "cell_type": "code",
   "execution_count": null,
   "metadata": {},
   "outputs": [],
   "source": [
    "71/1000"
   ]
  },
  {
   "cell_type": "code",
   "execution_count": 12,
   "metadata": {},
   "outputs": [
    {
     "name": "stdout",
     "output_type": "stream",
     "text": [
      "CPU times: user 604 ms, sys: 16 ms, total: 620 ms\n",
      "Wall time: 580 ms\n"
     ]
    }
   ],
   "source": [
    "%%time\n",
    "for i in range(1000):\n",
    "    density.at(new_event().location)"
   ]
  },
  {
   "cell_type": "markdown",
   "metadata": {},
   "source": [
    "__Timings__\n",
    "\n",
    "64 ms per additive update with uniform distribution\n",
    "\n",
    "71 ms per random update with uniform distribution\n",
    "\n",
    "0.6 ms per evaluation at point"
   ]
  },
  {
   "cell_type": "code",
   "execution_count": null,
   "metadata": {},
   "outputs": [],
   "source": [
    "x_grid = np.linspace(-0.9, 0.90, 50)\n",
    "y_grid = np.linspace(-0.9, 0.90, 50)\n",
    "x_grid, y_grid = np.meshgrid(x_grid, y_grid)\n",
    "\n",
    "p_hat = density._on(x_grid, y_grid)\n",
    "\n",
    "fig, ax = plt.subplots()\n",
    "ax.set(xlabel=r'$x$', ylabel=r'$y$')\n",
    "contour = ax.contourf(x_grid, y_grid, p_hat, 9, cmap='inferno')\n",
    "cbar = plt.colorbar(contour, ax=ax)\n",
    "fig.tight_layout()"
   ]
  },
  {
   "cell_type": "code",
   "execution_count": null,
   "metadata": {
    "collapsed": true
   },
   "outputs": [],
   "source": []
  }
 ],
 "metadata": {
  "anaconda-cloud": {},
  "kernelspec": {
   "display_name": "Python 3",
   "language": "python",
   "name": "python3"
  },
  "language_info": {
   "codemirror_mode": {
    "name": "ipython",
    "version": 3
   },
   "file_extension": ".py",
   "mimetype": "text/x-python",
   "name": "python",
   "nbconvert_exporter": "python",
   "pygments_lexer": "ipython3",
   "version": "3.6.1"
  }
 },
 "nbformat": 4,
 "nbformat_minor": 1
}
