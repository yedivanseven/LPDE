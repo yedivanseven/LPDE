{
 "cells": [
  {
   "cell_type": "markdown",
   "metadata": {},
   "source": [
    "# ORTHOGONAL POLYNOMIAL DENSITY ESTIMATION\n",
    "## Preliminaries\n",
    "### Imports"
   ]
  },
  {
   "cell_type": "code",
   "execution_count": 2,
   "metadata": {
    "collapsed": true
   },
   "outputs": [],
   "source": [
    "import numpy as np\n",
    "import matplotlib.pyplot as plt\n",
    "import seaborn as sbn\n",
    "import pandas as pd\n",
    "from uuid import uuid4\n",
    "\n",
    "from lpde.geometry import WidthOf, Window, PointAt, BoundingBox, Mapper, Grid\n",
    "from lpde.estimators import ParallelEstimator\n",
    "from lpde.estimators.datatypes import Event, Degree, Action, Scalings, Signal"
   ]
  },
  {
   "cell_type": "markdown",
   "metadata": {},
   "source": [
    "### Notebook settings"
   ]
  },
  {
   "cell_type": "code",
   "execution_count": 3,
   "metadata": {
    "collapsed": true
   },
   "outputs": [],
   "source": [
    "%matplotlib notebook"
   ]
  },
  {
   "cell_type": "markdown",
   "metadata": {},
   "source": [
    "## Density Estimation\n",
    "### Initialize"
   ]
  },
  {
   "cell_type": "code",
   "execution_count": 4,
   "metadata": {
    "collapsed": true
   },
   "outputs": [],
   "source": [
    "legendre_width = WidthOf(1.8)\n",
    "\n",
    "center = PointAt(0, 0)\n",
    "window = Window(1.8, 1.8)\n",
    "bounds = BoundingBox(center, window)\n",
    "\n",
    "mapper = Mapper(bounds, legendre_width)\n",
    "\n",
    "degree = Degree(20, 20)\n",
    "density = ParallelEstimator(degree, mapper)\n",
    "\n",
    "action = Action.ADD\n",
    "point = PointAt(0.5, 0.5)\n",
    "event = Event(uuid4(), action, point)\n",
    "\n",
    "grid = Grid(100, 100)"
   ]
  },
  {
   "cell_type": "markdown",
   "metadata": {},
   "source": [
    "### Create mock data streams"
   ]
  },
  {
   "cell_type": "code",
   "execution_count": 5,
   "metadata": {
    "collapsed": true
   },
   "outputs": [],
   "source": [
    "def gaussian():\n",
    "    x, y = np.random.multivariate_normal((0,0), ((0.1,0), (0,0.1)))\n",
    "    if (-0.9 <= x <= 0.9) and (-0.9 <= y <= 0.9):\n",
    "        return x, y\n",
    "    else:\n",
    "        return gaussian()\n",
    "\n",
    "def uniform():\n",
    "    return np.random.uniform(low=-0.9, high=0.9, size=2)\n",
    "\n",
    "locations = []\n",
    "\n",
    "def new_event(dist):\n",
    "    location = dist()\n",
    "    locations.append(location)\n",
    "    point = PointAt(*location)\n",
    "    return Event(uuid4(), Action(1), point)\n",
    "\n",
    "def random_event(dist):\n",
    "    event_type = np.random.randint(low=-1, high=2)\n",
    "    if event_type == 1:\n",
    "        location = dist()\n",
    "        point = PointAt(*location)\n",
    "        return Event(uuid4(), Action(1), point)\n",
    "    elif event_type == 0:\n",
    "        location = dist()\n",
    "        point = PointAt(*location)\n",
    "        column = density._phi.sample(1, axis=1).columns.values[0]\n",
    "        return Event(column, Action(0), point)\n",
    "    column = density._phi.sample(1, axis=1).columns.values[0]\n",
    "    return Event(column, Action(-1))"
   ]
  },
  {
   "cell_type": "code",
   "execution_count": null,
   "metadata": {
    "collapsed": true
   },
   "outputs": [],
   "source": [
    "density.controller.start(2, 1.0)"
   ]
  },
  {
   "cell_type": "code",
   "execution_count": null,
   "metadata": {
    "collapsed": true
   },
   "outputs": [],
   "source": [
    "density.update_with(new_event(gaussian))"
   ]
  },
  {
   "cell_type": "code",
   "execution_count": null,
   "metadata": {
    "collapsed": true
   },
   "outputs": [],
   "source": [
    "density.at(point)"
   ]
  },
  {
   "cell_type": "code",
   "execution_count": null,
   "metadata": {
    "collapsed": true
   },
   "outputs": [],
   "source": [
    "density.controller.stop()"
   ]
  },
  {
   "cell_type": "code",
   "execution_count": 9,
   "metadata": {},
   "outputs": [
    {
     "data": {
      "text/plain": [
       "array([ 0.,  0.])"
      ]
     },
     "execution_count": 9,
     "metadata": {},
     "output_type": "execute_result"
    }
   ],
   "source": [
    "bounds.center"
   ]
  },
  {
   "cell_type": "markdown",
   "metadata": {},
   "source": [
    "### Timings of density estimation"
   ]
  },
  {
   "cell_type": "code",
   "execution_count": null,
   "metadata": {
    "collapsed": true
   },
   "outputs": [],
   "source": [
    "%%time\n",
    "for i in range(1000):\n",
    "    density.update_with(new_event(gaussian))\n",
    "while not density.controller.coeff_queue.empty():\n",
    "    pass"
   ]
  },
  {
   "cell_type": "code",
   "execution_count": null,
   "metadata": {
    "collapsed": true
   },
   "outputs": [],
   "source": [
    "%%time\n",
    "for i in range(1000):\n",
    "    density.update_with(random_event(gaussian))\n",
    "while not density._phi_queue_empty:\n",
    "    pass"
   ]
  },
  {
   "cell_type": "code",
   "execution_count": null,
   "metadata": {
    "collapsed": true
   },
   "outputs": [],
   "source": [
    "%%time\n",
    "for i in range(1000):\n",
    "    density.at(new_event(uniform).location)\n",
    "while not density._phi_queue_empty:\n",
    "    pass"
   ]
  },
  {
   "cell_type": "markdown",
   "metadata": {},
   "source": [
    "__Timings__\n",
    "\n",
    "33 ms per additive update with uniform distribution\n",
    "\n",
    "31 ms per random update with uniform distribution\n",
    "\n",
    "0.6 ms per evaluation at point"
   ]
  },
  {
   "cell_type": "markdown",
   "metadata": {},
   "source": [
    "### Plot final density"
   ]
  },
  {
   "cell_type": "code",
   "execution_count": null,
   "metadata": {
    "collapsed": true
   },
   "outputs": [],
   "source": [
    "n_hat = density.on(grid)\n",
    "\n",
    "fig, ax = plt.subplots()\n",
    "ax.set(xlabel=r'$x$', ylabel=r'$y$')\n",
    "ax.scatter(*zip(*locations), s=5, c='k')\n",
    "contour = ax.imshow(n_hat,\n",
    "                    cmap='viridis',\n",
    "                    alpha=0.9,\n",
    "                    extent=bounds.x_range+bounds.y_range,\n",
    "                    origin='lower',\n",
    "                    interpolation='bicubic')\n",
    "cbar = plt.colorbar(contour, ax=ax, label=r'$n(x)$')\n",
    "fig.tight_layout()"
   ]
  },
  {
   "cell_type": "code",
   "execution_count": null,
   "metadata": {
    "collapsed": true
   },
   "outputs": [],
   "source": [
    "from bokeh.io import output_file, show\n",
    "from bokeh.plotting import figure\n",
    "from bokeh.tile_providers import STAMEN_TONER, STAMEN_TERRAIN\n",
    "\n",
    "bound = 20000000 # meters\n",
    "fig = figure(tools='pan, wheel_zoom', x_range=(-bound, bound), y_range=(-bound, bound))\n",
    "fig.axis.visible = False\n",
    "fig.add_tile(STAMEN_TERRAIN)\n",
    "output_file(\"stamen_toner_plot.html\")\n",
    "show(fig)"
   ]
  },
  {
   "cell_type": "code",
   "execution_count": null,
   "metadata": {
    "collapsed": true
   },
   "outputs": [],
   "source": [
    "from bokeh.plotting import figure, show, output_file\n",
    "\n",
    "p = figure(x_range=bounds.x_range, y_range=bounds.y_range)\n",
    "\n",
    "# must give a vector of image data for image parameter\n",
    "p.image(image=[n_hat],\n",
    "        x=bounds.x_range[0],\n",
    "        y=bounds.y_range[0],\n",
    "        dw=bounds.window[0],\n",
    "        dh=bounds.window[1],\n",
    "        palette=\"Spectral11\",\n",
    "        alpha=0.8)\n",
    "\n",
    "output_file(\"image.html\", title=\"image.py example\")\n",
    "\n",
    "show(p)  # open a browser"
   ]
  },
  {
   "cell_type": "code",
   "execution_count": 1,
   "metadata": {
    "collapsed": true
   },
   "outputs": [],
   "source": [
    "def f():\n",
    "    pass"
   ]
  },
  {
   "cell_type": "code",
   "execution_count": 2,
   "metadata": {},
   "outputs": [
    {
     "data": {
      "text/plain": [
       "function"
      ]
     },
     "execution_count": 2,
     "metadata": {},
     "output_type": "execute_result"
    }
   ],
   "source": [
    "type(f)"
   ]
  },
  {
   "cell_type": "code",
   "execution_count": 6,
   "metadata": {},
   "outputs": [
    {
     "ename": "NameError",
     "evalue": "name 'function' is not defined",
     "output_type": "error",
     "traceback": [
      "\u001b[0;31m---------------------------------------------------------------------------\u001b[0m",
      "\u001b[0;31mNameError\u001b[0m                                 Traceback (most recent call last)",
      "\u001b[0;32m<ipython-input-6-d5232524cbc1>\u001b[0m in \u001b[0;36m<module>\u001b[0;34m()\u001b[0m\n\u001b[0;32m----> 1\u001b[0;31m \u001b[0mcallable\u001b[0m\u001b[0;34m(\u001b[0m\u001b[0mfunction\u001b[0m\u001b[0;34m)\u001b[0m\u001b[0;34m\u001b[0m\u001b[0m\n\u001b[0m",
      "\u001b[0;31mNameError\u001b[0m: name 'function' is not defined"
     ]
    }
   ],
   "source": [
    "callable(function)"
   ]
  },
  {
   "cell_type": "code",
   "execution_count": null,
   "metadata": {
    "collapsed": true
   },
   "outputs": [],
   "source": []
  }
 ],
 "metadata": {
  "anaconda-cloud": {},
  "kernelspec": {
   "display_name": "Python 3",
   "language": "python",
   "name": "python3"
  },
  "language_info": {
   "codemirror_mode": {
    "name": "ipython",
    "version": 3
   },
   "file_extension": ".py",
   "mimetype": "text/x-python",
   "name": "python",
   "nbconvert_exporter": "python",
   "pygments_lexer": "ipython3",
   "version": "3.6.2"
  }
 },
 "nbformat": 4,
 "nbformat_minor": 1
}
