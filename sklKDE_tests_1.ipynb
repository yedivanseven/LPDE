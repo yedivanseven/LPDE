{
 "cells": [
  {
   "cell_type": "code",
   "execution_count": 2,
   "metadata": {
    "collapsed": true
   },
   "outputs": [],
   "source": [
    "from sklKDE.producers import MockParams, MockProducer\n",
    "from sklKDE.producers.distributions import gaussian\n",
    "from sklKDE.geometry import PointAt, Window, BoundingBox, Grid\n",
    "from sklKDE.datatypes import Kernel\n",
    "from sklKDE.density import Density, DensityParams\n",
    "\n",
    "from numpy import seterr\n",
    "from mkl import set_num_threads\n",
    "\n",
    "_ = seterr(over='ignore')\n",
    "\n",
    "set_num_threads(1)"
   ]
  },
  {
   "cell_type": "code",
   "execution_count": 3,
   "metadata": {},
   "outputs": [],
   "source": [
    "center = PointAt(0, 0)\n",
    "window = Window(2, 4)\n",
    "bounds = BoundingBox(center, window)\n",
    "grid = Grid(50, 50)\n",
    "\n",
    "params = MockParams(100, 1000, gaussian)\n",
    "producer = MockProducer(params, bounds)\n",
    "\n",
    "kernel = Kernel('gaussian', 0.1)\n",
    "demand_params = DensityParams(kernel, bounds, grid, producer)\n",
    "demand = Density(demand_params)"
   ]
  },
  {
   "cell_type": "code",
   "execution_count": 4,
   "metadata": {
    "collapsed": true
   },
   "outputs": [],
   "source": [
    "demand.control.start()"
   ]
  },
  {
   "cell_type": "code",
   "execution_count": 5,
   "metadata": {},
   "outputs": [
    {
     "data": {
      "text/plain": [
       "{'GridMapper': True, 'Streamer': True}"
      ]
     },
     "execution_count": 5,
     "metadata": {},
     "output_type": "execute_result"
    }
   ],
   "source": [
    "demand.control.alive"
   ]
  },
  {
   "cell_type": "code",
   "execution_count": 13,
   "metadata": {},
   "outputs": [],
   "source": [
    "demand.control.stop()"
   ]
  },
  {
   "cell_type": "code",
   "execution_count": 6,
   "metadata": {
    "collapsed": true
   },
   "outputs": [],
   "source": [
    "import matplotlib.pyplot as plt\n",
    "from matplotlib.animation import FuncAnimation\n",
    "\n",
    "%matplotlib qt5"
   ]
  },
  {
   "cell_type": "code",
   "execution_count": 7,
   "metadata": {
    "collapsed": true
   },
   "outputs": [],
   "source": [
    "fig_size_x = 8\n",
    "\n",
    "fig = plt.figure(figsize=(fig_size_x, fig_size_x*bounds.aspect))\n",
    "ax = plt.axes()\n",
    "axlabel = ax.set(xlabel='longitude', ylabel='lattitude')\n",
    "\n",
    "contour = ax.imshow(demand.on_grid,\n",
    "                    cmap='viridis',\n",
    "                    extent=bounds.extent,\n",
    "                    origin='lower')\n",
    "\n",
    "def initialize_figure():\n",
    "    return contour,\n",
    "\n",
    "def update_figure(*args):\n",
    "    data = demand.on_grid\n",
    "    contour.set_data(data)\n",
    "    contour.set_clim(data.min(), data.max())\n",
    "    return contour,\n",
    "\n",
    "animation = FuncAnimation(fig, update_figure, interval=100, blit=True)\n",
    "\n",
    "fig.tight_layout()\n",
    "fig.show()"
   ]
  },
  {
   "cell_type": "code",
   "execution_count": 12,
   "metadata": {},
   "outputs": [
    {
     "name": "stdout",
     "output_type": "stream",
     "text": [
      "CPU times: user 9.5 s, sys: 4 ms, total: 9.51 s\n",
      "Wall time: 10.7 s\n"
     ]
    }
   ],
   "source": [
    "%%time\n",
    "for i in range(100):\n",
    "    demand._compute_on_grid()"
   ]
  },
  {
   "cell_type": "code",
   "execution_count": null,
   "metadata": {
    "collapsed": true
   },
   "outputs": [],
   "source": []
  }
 ],
 "metadata": {
  "kernelspec": {
   "display_name": "Python 3",
   "language": "python",
   "name": "python3"
  },
  "language_info": {
   "codemirror_mode": {
    "name": "ipython",
    "version": 3
   },
   "file_extension": ".py",
   "mimetype": "text/x-python",
   "name": "python",
   "nbconvert_exporter": "python",
   "pygments_lexer": "ipython3",
   "version": "3.6.2"
  }
 },
 "nbformat": 4,
 "nbformat_minor": 2
}
