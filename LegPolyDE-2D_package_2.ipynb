{
 "cells": [
  {
   "cell_type": "markdown",
   "metadata": {},
   "source": [
    "# ORTHOGONAL POLYNOMIAL DENSITY ESTIMATION\n",
    "## Preliminaries\n",
    "### Imports"
   ]
  },
  {
   "cell_type": "code",
   "execution_count": 1,
   "metadata": {},
   "outputs": [],
   "source": [
    "import numpy as np\n",
    "import matplotlib.pyplot as plt\n",
    "import seaborn as sbn\n",
    "import pandas as pd\n",
    "from uuid import uuid4\n",
    "\n",
    "from lpde.geometry import WidthOf, Window, PointAt, BoundingBox, Mapper\n",
    "from lpde.estimator import SerialEstimate\n",
    "from lpde.estimator.datatypes import Event, Degree, Action, Scalings"
   ]
  },
  {
   "cell_type": "markdown",
   "metadata": {},
   "source": [
    "### Notebook settings"
   ]
  },
  {
   "cell_type": "code",
   "execution_count": 2,
   "metadata": {
    "collapsed": true
   },
   "outputs": [],
   "source": [
    "%matplotlib notebook"
   ]
  },
  {
   "cell_type": "markdown",
   "metadata": {},
   "source": [
    "## Density Estimation\n",
    "### Initialize"
   ]
  },
  {
   "cell_type": "code",
   "execution_count": 4,
   "metadata": {},
   "outputs": [],
   "source": [
    "legendre_width = WidthOf(1.8)\n",
    "\n",
    "center = PointAt(0, 0)\n",
    "window = Window(1.8, 1.8)\n",
    "bounds = BoundingBox(center, window)\n",
    "\n",
    "mapper = Mapper(bounds, legendre_width)\n",
    "\n",
    "degree = Degree(20, 20)\n",
    "density = SerialEstimate(degree, mapper)\n",
    "\n",
    "action = Action.ADD\n",
    "point = PointAt(0.5, 0.5)\n",
    "event = Event(uuid4(), action, point)"
   ]
  },
  {
   "cell_type": "markdown",
   "metadata": {},
   "source": [
    "### Create mock data streams"
   ]
  },
  {
   "cell_type": "code",
   "execution_count": 5,
   "metadata": {
    "collapsed": true
   },
   "outputs": [],
   "source": [
    "def gaussian():\n",
    "    x, y = np.random.multivariate_normal((0,0), ((0.1,0), (0,0.1)))\n",
    "    if (-0.9 <= x <= 0.9) and (-0.9 <= y <= 0.9):\n",
    "        return x, y\n",
    "    else:\n",
    "        return gaussian()\n",
    "\n",
    "def uniform():\n",
    "    return np.random.uniform(low=-0.9, high=0.9, size=2)\n",
    "\n",
    "locations = []\n",
    "\n",
    "def new_event(dist):\n",
    "    location = dist()\n",
    "    locations.append(location)\n",
    "    point = PointAt(*location)\n",
    "    return Event(uuid4(), Action(1), point)\n",
    "\n",
    "def random_event(dist):\n",
    "    event_type = np.random.randint(low=-1, high=2)\n",
    "    if event_type == 1:\n",
    "        location = dist()\n",
    "        point = PointAt(*location)\n",
    "        return Event(uuid4(), Action(1), point)\n",
    "    elif event_type == 0:\n",
    "        location = dist()\n",
    "        point = PointAt(*location)\n",
    "        column = density._phi.sample(1, axis=1).columns.values[0]\n",
    "        return Event(column, Action(0), point)\n",
    "    column = density._phi.sample(1, axis=1).columns.values[0]\n",
    "    return Event(column, Action(-1))"
   ]
  },
  {
   "cell_type": "markdown",
   "metadata": {},
   "source": [
    "### Timings of density estimation"
   ]
  },
  {
   "cell_type": "code",
   "execution_count": 6,
   "metadata": {},
   "outputs": [
    {
     "name": "stderr",
     "output_type": "stream",
     "text": [
      "/Users/georg/Documents/Python/LPDE/lpde/estimator/estimator.py:90: RuntimeWarning: overflow encountered in double_scalars\n",
      "  return self.__neg_log_l(c[1:]) + c[0]*self.__norm(c[1:])\n",
      "/Users/georg/Documents/Python/LPDE/lpde/estimator/estimator.py:98: RuntimeWarning: overflow encountered in square\n",
      "  return -log(square(c.dot(self.__phi_ijn.values))).sum()\n",
      "/Users/georg/Documents/Python/LPDE/lpde/estimator/estimator.py:94: RuntimeWarning: overflow encountered in multiply\n",
      "  self.__grad_c[1:] = self.__grad_neg_log_l(c[1:]) + 2.0*c[0]*c[1:]\n"
     ]
    },
    {
     "name": "stdout",
     "output_type": "stream",
     "text": [
      "CPU times: user 1min 7s, sys: 5.6 s, total: 1min 12s\n",
      "Wall time: 42 s\n"
     ]
    }
   ],
   "source": [
    "%%time\n",
    "for i in range(1000):\n",
    "    density.update_with(new_event(uniform))"
   ]
  },
  {
   "cell_type": "code",
   "execution_count": 7,
   "metadata": {},
   "outputs": [
    {
     "name": "stdout",
     "output_type": "stream",
     "text": [
      "CPU times: user 1min 11s, sys: 9.28 s, total: 1min 21s\n",
      "Wall time: 40.6 s\n"
     ]
    }
   ],
   "source": [
    "%%time\n",
    "for i in range(1000):\n",
    "    density.update_with(random_event(gaussian))"
   ]
  },
  {
   "cell_type": "code",
   "execution_count": 8,
   "metadata": {},
   "outputs": [
    {
     "name": "stdout",
     "output_type": "stream",
     "text": [
      "CPU times: user 629 ms, sys: 10.7 ms, total: 640 ms\n",
      "Wall time: 465 ms\n"
     ]
    }
   ],
   "source": [
    "%%time\n",
    "for i in range(1000):\n",
    "    density.at(new_event(uniform).location)"
   ]
  },
  {
   "cell_type": "markdown",
   "metadata": {},
   "source": [
    "__Timings__\n",
    "\n",
    "33 ms per additive update with uniform distribution\n",
    "\n",
    "31 ms per random update with uniform distribution\n",
    "\n",
    "0.6 ms per evaluation at point"
   ]
  },
  {
   "cell_type": "markdown",
   "metadata": {},
   "source": [
    "### Plot final density"
   ]
  },
  {
   "cell_type": "code",
   "execution_count": null,
   "metadata": {},
   "outputs": [],
   "source": [
    "x_grid = np.linspace(-0.9, 0.90, 100)\n",
    "y_grid = np.linspace(-0.9, 0.90, 100)\n",
    "x_grid, y_grid = np.meshgrid(x_grid, y_grid)\n",
    "\n",
    "p_hat = density._on(x_grid, y_grid)\n",
    "\n",
    "fig, ax = plt.subplots()\n",
    "ax.set(xlabel=r'$x$', ylabel=r'$y$')\n",
    "ax.scatter(*zip(*locations), s=5, c='k')\n",
    "contour = ax.contourf(x_grid, y_grid, p_hat, 9, cmap='viridis', alpha=0.9)\n",
    "cbar = plt.colorbar(contour, ax=ax, label=r'$p(x)$')\n",
    "fig.tight_layout()"
   ]
  },
  {
   "cell_type": "markdown",
   "metadata": {},
   "source": [
    "## Coefficient smoothing"
   ]
  },
  {
   "cell_type": "code",
   "execution_count": null,
   "metadata": {},
   "outputs": [],
   "source": [
    "coeffs = []\n",
    "\n",
    "for i in range(1000):\n",
    "    density.update_with(new_event(gaussian))\n",
    "    coeffs.append(density._c.tolist())  \n",
    "\n",
    "coeffs = np.array(coeffs).T"
   ]
  },
  {
   "cell_type": "code",
   "execution_count": null,
   "metadata": {},
   "outputs": [],
   "source": [
    "ij = 100\n",
    "\n",
    "fig, ax = plt.subplots()\n",
    "ax.plot(coeffs[ij])"
   ]
  },
  {
   "cell_type": "code",
   "execution_count": null,
   "metadata": {
    "collapsed": true
   },
   "outputs": [],
   "source": [
    "import scipy.signal as scps"
   ]
  },
  {
   "cell_type": "code",
   "execution_count": null,
   "metadata": {},
   "outputs": [],
   "source": [
    "b, a = scps.butter(2, 0.03)\n",
    "plt.plot(scps.lfilter(b, a, coeffs[ij]))"
   ]
  },
  {
   "cell_type": "code",
   "execution_count": null,
   "metadata": {
    "collapsed": true
   },
   "outputs": [],
   "source": [
    "class A:\n",
    "    def __private(self):\n",
    "        print('Privat!')\n",
    "\n",
    "class B:\n",
    "    def __init__(self, other):\n",
    "        print(other.__class__.__name__)\n",
    "        self.__method = getattr(other, '_A__private')\n",
    "        \n",
    "    def knock(self):\n",
    "        self.__method()"
   ]
  },
  {
   "cell_type": "code",
   "execution_count": null,
   "metadata": {
    "collapsed": true
   },
   "outputs": [],
   "source": [
    "a = A()"
   ]
  },
  {
   "cell_type": "code",
   "execution_count": null,
   "metadata": {},
   "outputs": [],
   "source": [
    "b = B(a)"
   ]
  },
  {
   "cell_type": "code",
   "execution_count": null,
   "metadata": {},
   "outputs": [],
   "source": [
    "b.knock()"
   ]
  },
  {
   "cell_type": "code",
   "execution_count": null,
   "metadata": {
    "collapsed": true
   },
   "outputs": [],
   "source": [
    "a = 3"
   ]
  },
  {
   "cell_type": "code",
   "execution_count": null,
   "metadata": {
    "collapsed": true
   },
   "outputs": [],
   "source": [
    "b = a"
   ]
  },
  {
   "cell_type": "code",
   "execution_count": null,
   "metadata": {
    "collapsed": true
   },
   "outputs": [],
   "source": [
    "a = 2"
   ]
  },
  {
   "cell_type": "code",
   "execution_count": null,
   "metadata": {},
   "outputs": [],
   "source": [
    "b"
   ]
  },
  {
   "cell_type": "code",
   "execution_count": null,
   "metadata": {
    "collapsed": true
   },
   "outputs": [],
   "source": []
  }
 ],
 "metadata": {
  "anaconda-cloud": {},
  "kernelspec": {
   "display_name": "Python 3",
   "language": "python",
   "name": "python3"
  },
  "language_info": {
   "codemirror_mode": {
    "name": "ipython",
    "version": 3
   },
   "file_extension": ".py",
   "mimetype": "text/x-python",
   "name": "python",
   "nbconvert_exporter": "python",
   "pygments_lexer": "ipython3",
   "version": "3.6.1"
  }
 },
 "nbformat": 4,
 "nbformat_minor": 1
}
