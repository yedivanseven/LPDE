{
 "cells": [
  {
   "cell_type": "markdown",
   "metadata": {},
   "source": [
    "# ORTHOGONAL POLYNOMIAL DENSITY ESTIMATION\n",
    "## Preliminaries\n",
    "### Imports"
   ]
  },
  {
   "cell_type": "code",
   "execution_count": 1,
   "metadata": {},
   "outputs": [],
   "source": [
    "import numpy as np\n",
    "import matplotlib.pyplot as plt\n",
    "from matplotlib.animation import FuncAnimation\n",
    "from matplotlib.colors import ListedColormap\n",
    "from mpl_toolkits.axes_grid1 import make_axes_locatable\n",
    "from uuid import uuid4\n",
    "\n",
    "from lpde.geometry import WidthOf, Window, PointAt, BoundingBox, Mapper, Grid\n",
    "from lpde.estimators import ParallelEstimator\n",
    "from lpde.estimators.datatypes import Event, Degree, Action\n",
    "from lpde.producers import MockParams\n",
    "from lpde.producers.distributions import gaussian\n",
    "from lpde.visualizers import Visualize"
   ]
  },
  {
   "cell_type": "markdown",
   "metadata": {},
   "source": [
    "### Notebook settings"
   ]
  },
  {
   "cell_type": "code",
   "execution_count": 2,
   "metadata": {},
   "outputs": [],
   "source": [
    "%matplotlib qt5"
   ]
  },
  {
   "cell_type": "markdown",
   "metadata": {},
   "source": [
    "## Density Estimation\n",
    "### Initialize"
   ]
  },
  {
   "cell_type": "code",
   "execution_count": 3,
   "metadata": {
    "collapsed": true
   },
   "outputs": [],
   "source": [
    "legendre_width = WidthOf(1.8)\n",
    "\n",
    "center = PointAt(51.375, 35.675)\n",
    "window = Window(0.55, 0.35)\n",
    "bounds = BoundingBox(center, window)\n",
    "\n",
    "mapper = Mapper(bounds, legendre_width)\n",
    "\n",
    "degree = Degree(20, 20)\n",
    "params = MockParams(20, 100, gaussian)\n",
    "demand = ParallelEstimator(degree, mapper, params)\n",
    "\n",
    "action = Action.ADD\n",
    "point = PointAt(51.4, 35.7)\n",
    "event = Event(uuid4(), action, point)\n",
    "\n",
    "grid = Grid(100, 100)"
   ]
  },
  {
   "cell_type": "markdown",
   "metadata": {},
   "source": [
    "### Start, check, and stop"
   ]
  },
  {
   "cell_type": "code",
   "execution_count": 4,
   "metadata": {},
   "outputs": [
    {
     "name": "stderr",
     "output_type": "stream",
     "text": [
      "/home/georg/Documents/Python/LPDE/lpde/estimators/parallel/minimizer.py:110: RuntimeWarning: overflow encountered in double_scalars\n",
      "  return self.__neg_log_l(c[1:]) + c[0]*self.__norm(c[1:])\n",
      "/home/georg/Documents/Python/LPDE/lpde/estimators/parallel/minimizer.py:118: RuntimeWarning: overflow encountered in square\n",
      "  return -log(square(c.dot(self.__phi_ijn))).sum()\n",
      "/home/georg/Documents/Python/LPDE/lpde/estimators/parallel/minimizer.py:114: RuntimeWarning: overflow encountered in multiply\n",
      "  self.__grad_c[1:] = self.__grad_neg_log_l(c[1:]) + 2.0*c[0]*c[1:]\n"
     ]
    }
   ],
   "source": [
    "demand.controller.start(1, 1.0)"
   ]
  },
  {
   "cell_type": "code",
   "execution_count": null,
   "metadata": {},
   "outputs": [],
   "source": [
    "demand.controller.alive"
   ]
  },
  {
   "cell_type": "code",
   "execution_count": null,
   "metadata": {},
   "outputs": [],
   "source": [
    "demand.controller.open"
   ]
  },
  {
   "cell_type": "code",
   "execution_count": null,
   "metadata": {},
   "outputs": [],
   "source": [
    "demand.controller.qsize"
   ]
  },
  {
   "cell_type": "code",
   "execution_count": null,
   "metadata": {
    "collapsed": true
   },
   "outputs": [],
   "source": [
    "demand.update_with(event)"
   ]
  },
  {
   "cell_type": "code",
   "execution_count": 7,
   "metadata": {},
   "outputs": [],
   "source": [
    "demand.controller.stop()"
   ]
  },
  {
   "cell_type": "code",
   "execution_count": 5,
   "metadata": {
    "collapsed": true
   },
   "outputs": [],
   "source": [
    "visulization = Visualize(demand)"
   ]
  },
  {
   "cell_type": "code",
   "execution_count": 6,
   "metadata": {},
   "outputs": [],
   "source": [
    "animation = visulization.show(cartopy=True)"
   ]
  },
  {
   "cell_type": "markdown",
   "metadata": {},
   "source": [
    "### Plot final density\n",
    "#### With `cartopy` installed .."
   ]
  },
  {
   "cell_type": "code",
   "execution_count": null,
   "metadata": {
    "collapsed": true
   },
   "outputs": [],
   "source": [
    "import cartopy.crs as cpcrs\n",
    "import cartopy.io.img_tiles as cpimgt"
   ]
  },
  {
   "cell_type": "markdown",
   "metadata": {},
   "source": [
    "... we define a transparent color map ..."
   ]
  },
  {
   "cell_type": "code",
   "execution_count": null,
   "metadata": {
    "collapsed": true
   },
   "outputs": [],
   "source": [
    "mpl_cmap = plt.cm.viridis\n",
    "new_cmap = mpl_cmap(np.arange(mpl_cmap.N))\n",
    "new_cmap[:, -1] = np.linspace(0, 1, mpl_cmap.N)\n",
    "new_cmap = ListedColormap(new_cmap)"
   ]
  },
  {
   "cell_type": "markdown",
   "metadata": {},
   "source": [
    " ... and plot."
   ]
  },
  {
   "cell_type": "code",
   "execution_count": null,
   "metadata": {},
   "outputs": [],
   "source": [
    "fig = plt.figure()\n",
    "\n",
    "osm = cpimgt.OSM()\n",
    "\n",
    "iax = plt.axes(projection=osm.crs)\n",
    "iax.set_extent(bounds.x_range + bounds.y_range)\n",
    "iax.add_image(osm, 10)\n",
    "axlabel = iax.set(xlabel='longitude', ylabel='lattitude')\n",
    "\n",
    "contour = iax.imshow(demand.on_grid,\n",
    "                     cmap=new_cmap, \n",
    "                     extent=iax.get_extent(),\n",
    "                     origin='lower',\n",
    "                     animated=True)\n",
    "\n",
    "def initialize_figure():\n",
    "    return contour,\n",
    "\n",
    "def update_figure(*args):\n",
    "    data = demand.on_grid\n",
    "    contour.set_data(data)\n",
    "    contour.set_clim(data.min(), data.max())\n",
    "    return contour,\n",
    "\n",
    "animation = FuncAnimation(fig, update_figure, init_func=initialize_figure, interval=50, blit=True)\n",
    "\n",
    "fig.tight_layout()\n",
    "plt.show()"
   ]
  },
  {
   "cell_type": "markdown",
   "metadata": {},
   "source": [
    "#### ... or without `cartopy`."
   ]
  },
  {
   "cell_type": "code",
   "execution_count": null,
   "metadata": {},
   "outputs": [],
   "source": [
    "fig_size_x = 8\n",
    "\n",
    "fig = plt.figure(figsize=(fig_size_x, fig_size_x*bounds.aspect))\n",
    "ax = plt.axes()\n",
    "axlabel = ax.set(xlabel='longitude', ylabel='lattitude')\n",
    "\n",
    "contour = ax.imshow(demand.on_grid,\n",
    "                    cmap='viridis',\n",
    "                    extent=bounds.x_range+bounds.y_range,\n",
    "                    origin='lower',\n",
    "                    animated=True)\n",
    "\n",
    "divider = make_axes_locatable(ax)\n",
    "cbax = divider.append_axes('right', size='5%', pad=0.1)\n",
    "cbar = plt.colorbar(contour, cax=cbax, label='demand')\n",
    "\n",
    "def update_figure(*args):\n",
    "    data = demand.on_grid\n",
    "    contour.set_data(data)\n",
    "    contour.set_clim(data.min(), data.max())\n",
    "    return contour,\n",
    "\n",
    "animation = FuncAnimation(fig, update_figure, interval=100, blit=False)\n",
    "\n",
    "fig.tight_layout()\n",
    "fig.show()"
   ]
  },
  {
   "cell_type": "code",
   "execution_count": null,
   "metadata": {
    "collapsed": true
   },
   "outputs": [],
   "source": [
    "test = ('one', 'two')"
   ]
  },
  {
   "cell_type": "code",
   "execution_count": null,
   "metadata": {
    "collapsed": true
   },
   "outputs": [],
   "source": [
    "print(f'Tuple of {test}')"
   ]
  },
  {
   "cell_type": "code",
   "execution_count": null,
   "metadata": {
    "collapsed": true
   },
   "outputs": [],
   "source": [
    "type(fig)"
   ]
  },
  {
   "cell_type": "code",
   "execution_count": null,
   "metadata": {},
   "outputs": [],
   "source": [
    "type(ax)"
   ]
  },
  {
   "cell_type": "code",
   "execution_count": null,
   "metadata": {
    "collapsed": true
   },
   "outputs": [],
   "source": [
    "import matplotlib"
   ]
  },
  {
   "cell_type": "code",
   "execution_count": null,
   "metadata": {},
   "outputs": [],
   "source": [
    "from matplotlib.pyplot import cm"
   ]
  },
  {
   "cell_type": "code",
   "execution_count": null,
   "metadata": {},
   "outputs": [],
   "source": [
    "AXIS_TYPE = type(plt.axes())\n",
    "plt.close()"
   ]
  },
  {
   "cell_type": "code",
   "execution_count": null,
   "metadata": {},
   "outputs": [],
   "source": [
    "cm.viridis"
   ]
  },
  {
   "cell_type": "code",
   "execution_count": null,
   "metadata": {
    "collapsed": true
   },
   "outputs": [],
   "source": []
  }
 ],
 "metadata": {
  "anaconda-cloud": {},
  "kernelspec": {
   "display_name": "Python 3",
   "language": "python",
   "name": "python3"
  },
  "language_info": {
   "codemirror_mode": {
    "name": "ipython",
    "version": 3
   },
   "file_extension": ".py",
   "mimetype": "text/x-python",
   "name": "python",
   "nbconvert_exporter": "python",
   "pygments_lexer": "ipython3",
   "version": "3.6.2"
  }
 },
 "nbformat": 4,
 "nbformat_minor": 1
}
