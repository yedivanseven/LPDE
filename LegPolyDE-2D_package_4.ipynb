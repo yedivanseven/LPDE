{
 "cells": [
  {
   "cell_type": "markdown",
   "metadata": {},
   "source": [
    "# ORTHOGONAL POLYNOMIAL DENSITY ESTIMATION\n",
    "## Preliminaries\n",
    "### Imports"
   ]
  },
  {
   "cell_type": "code",
   "execution_count": 1,
   "metadata": {},
   "outputs": [],
   "source": [
    "import numpy as np\n",
    "import matplotlib.pyplot as plt\n",
    "from matplotlib.animation import FuncAnimation\n",
    "from uuid import uuid4\n",
    "\n",
    "from lpde.geometry import WidthOf, Window, PointAt, BoundingBox, Mapper, Grid\n",
    "from lpde.estimators import ParallelEstimator\n",
    "from lpde.estimators.datatypes import Event, Degree, Action\n",
    "from lpde.producers import MockParams\n",
    "from lpde.producers.distributions import gaussian"
   ]
  },
  {
   "cell_type": "markdown",
   "metadata": {},
   "source": [
    "### Notebook settings"
   ]
  },
  {
   "cell_type": "code",
   "execution_count": 2,
   "metadata": {
    "collapsed": true
   },
   "outputs": [],
   "source": [
    "%matplotlib qt5"
   ]
  },
  {
   "cell_type": "markdown",
   "metadata": {},
   "source": [
    "## Density Estimation\n",
    "### Initialize"
   ]
  },
  {
   "cell_type": "code",
   "execution_count": 3,
   "metadata": {},
   "outputs": [],
   "source": [
    "legendre_width = WidthOf(1.8)\n",
    "\n",
    "center = PointAt(0, 0)\n",
    "window = Window(1.8, 1.8)\n",
    "bounds = BoundingBox(center, window)\n",
    "\n",
    "mapper = Mapper(bounds, legendre_width)\n",
    "\n",
    "degree = Degree(20, 20)\n",
    "params = MockParams(20, 100, gaussian)\n",
    "density = ParallelEstimator(degree, mapper, params)\n",
    "\n",
    "action = Action.ADD\n",
    "point = PointAt(0.5, 0.5)\n",
    "event = Event(uuid4(), action, point)\n",
    "\n",
    "grid = Grid(100, 100)"
   ]
  },
  {
   "cell_type": "markdown",
   "metadata": {},
   "source": [
    "### Start, check, and stop"
   ]
  },
  {
   "cell_type": "code",
   "execution_count": 8,
   "metadata": {},
   "outputs": [],
   "source": [
    "density.controller.start(1, 1.0)"
   ]
  },
  {
   "cell_type": "code",
   "execution_count": 9,
   "metadata": {},
   "outputs": [
    {
     "data": {
      "text/plain": [
       "{'minimizers': (True, True),\n",
       " 'producer': True,\n",
       " 'smoother': True,\n",
       " 'transformer': True}"
      ]
     },
     "execution_count": 9,
     "metadata": {},
     "output_type": "execute_result"
    }
   ],
   "source": [
    "density.controller.alive"
   ]
  },
  {
   "cell_type": "code",
   "execution_count": 10,
   "metadata": {},
   "outputs": [
    {
     "data": {
      "text/plain": [
       "{'coefficients': True, 'events': True, 'phi': True}"
      ]
     },
     "execution_count": 10,
     "metadata": {},
     "output_type": "execute_result"
    }
   ],
   "source": [
    "density.controller.open"
   ]
  },
  {
   "cell_type": "code",
   "execution_count": 12,
   "metadata": {},
   "outputs": [
    {
     "data": {
      "text/plain": [
       "{'coefficients': 0, 'events': 0, 'phi': 186}"
      ]
     },
     "execution_count": 12,
     "metadata": {},
     "output_type": "execute_result"
    }
   ],
   "source": [
    "density.controller.qsize"
   ]
  },
  {
   "cell_type": "code",
   "execution_count": null,
   "metadata": {
    "collapsed": true
   },
   "outputs": [],
   "source": [
    "density.update_with(event)"
   ]
  },
  {
   "cell_type": "code",
   "execution_count": 13,
   "metadata": {},
   "outputs": [],
   "source": [
    "density.controller.stop()"
   ]
  },
  {
   "cell_type": "markdown",
   "metadata": {},
   "source": [
    "### Plot final density"
   ]
  },
  {
   "cell_type": "code",
   "execution_count": null,
   "metadata": {
    "collapsed": true
   },
   "outputs": [],
   "source": [
    "fig_size_x = 8\n",
    "\n",
    "fig, ax = plt.subplots(figsize=(fig_size_x, fig_size_x*bounds.aspect))\n",
    "ax.set(xlabel=r'$x$', ylabel=r'$y$')\n",
    "contour = ax.imshow(density.on_grid,\n",
    "                    cmap='viridis',\n",
    "                    alpha=1.0,\n",
    "                    extent=bounds.x_range+bounds.y_range,\n",
    "                    origin='lower',\n",
    "                    aspect=bounds.aspect,\n",
    "                    animated=True)\n",
    "cbar = plt.colorbar(contour, ax=ax, label=r'$n(x)$')\n",
    "fig.tight_layout()\n",
    "\n",
    "def update_figure(*args):\n",
    "    contour.set_data(density.on_grid)\n",
    "    contour.autoscale()\n",
    "    return contour,\n",
    "\n",
    "animation = FuncAnimation(fig, update_figure, interval=50, blit=True)\n",
    "plt.show()"
   ]
  },
  {
   "cell_type": "code",
   "execution_count": null,
   "metadata": {
    "collapsed": true
   },
   "outputs": [],
   "source": [
    "from bokeh.io import output_file, show\n",
    "from bokeh.plotting import figure\n",
    "from bokeh.tile_providers import STAMEN_TONER, STAMEN_TERRAIN\n",
    "\n",
    "bound = 20000000 # meters\n",
    "fig = figure(tools='pan, wheel_zoom', x_range=(-bound, bound), y_range=(-bound, bound))\n",
    "fig.axis.visible = False\n",
    "fig.add_tile(STAMEN_TERRAIN)\n",
    "output_file(\"stamen_toner_plot.html\")\n",
    "show(fig)"
   ]
  },
  {
   "cell_type": "code",
   "execution_count": null,
   "metadata": {
    "collapsed": true
   },
   "outputs": [],
   "source": [
    "from bokeh.plotting import figure, show, output_file\n",
    "\n",
    "p = figure(x_range=bounds.x_range, y_range=bounds.y_range)\n",
    "\n",
    "# must give a vector of image data for image parameter\n",
    "p.image(image=[n_hat],\n",
    "        x=bounds.x_range[0],\n",
    "        y=bounds.y_range[0],\n",
    "        dw=bounds.window[0],\n",
    "        dh=bounds.window[1],\n",
    "        palette=\"Spectral11\",\n",
    "        alpha=0.8)\n",
    "\n",
    "output_file(\"image.html\", title=\"image.py example\")\n",
    "\n",
    "show(p)  # open a browser"
   ]
  },
  {
   "cell_type": "code",
   "execution_count": null,
   "metadata": {},
   "outputs": [],
   "source": []
  },
  {
   "cell_type": "code",
   "execution_count": null,
   "metadata": {
    "collapsed": true
   },
   "outputs": [],
   "source": []
  }
 ],
 "metadata": {
  "anaconda-cloud": {},
  "kernelspec": {
   "display_name": "Python 3",
   "language": "python",
   "name": "python3"
  },
  "language_info": {
   "codemirror_mode": {
    "name": "ipython",
    "version": 3
   },
   "file_extension": ".py",
   "mimetype": "text/x-python",
   "name": "python",
   "nbconvert_exporter": "python",
   "pygments_lexer": "ipython3",
   "version": "3.6.1"
  }
 },
 "nbformat": 4,
 "nbformat_minor": 1
}
