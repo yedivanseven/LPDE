{
 "cells": [
  {
   "cell_type": "code",
   "execution_count": 1,
   "metadata": {
    "collapsed": true
   },
   "outputs": [],
   "source": [
    "import numpy as np\n",
    "import matplotlib.pyplot as plt\n",
    "from matplotlib.animation import FuncAnimation\n",
    "from multiprocessing import Queue, Array\n",
    "\n",
    "from lpde.estimator.datatypes import SmootherParams\n",
    "from lpde.estimator.parallel.smoother import Smoother\n",
    "from lpde.utility.controllers import SmootherController\n",
    "\n",
    "%matplotlib osx"
   ]
  },
  {
   "cell_type": "code",
   "execution_count": 2,
   "metadata": {},
   "outputs": [],
   "source": [
    "initial = np.zeros(5)\n",
    "initial[0] = 1\n",
    "\n",
    "impulse = np.ones_like(initial)\n",
    "impulse[0] = 0\n",
    "\n",
    "control = Queue()\n",
    "coefficients = Queue()\n",
    "smooth = Array('d', initial)\n",
    "decay = 10.0\n",
    "timestep = 1.0\n",
    "\n",
    "params = SmootherParams(control, coefficients, smooth, decay, timestep)\n",
    "smoother = Smoother(params)\n",
    "controller = SmootherController(smoother, params)"
   ]
  },
  {
   "cell_type": "code",
   "execution_count": 3,
   "metadata": {
    "collapsed": true
   },
   "outputs": [],
   "source": [
    "smoother.start()"
   ]
  },
  {
   "cell_type": "code",
   "execution_count": 4,
   "metadata": {
    "collapsed": true
   },
   "outputs": [],
   "source": [
    "def data_gen():\n",
    "    counter = 0\n",
    "    time = 0\n",
    "    while counter < 1000:\n",
    "        counter += 1\n",
    "        time += 1\n",
    "        yield time, smooth.get_obj()[0]\n",
    "\n",
    "\n",
    "def init():\n",
    "    ax.set_ylim(0, 1)\n",
    "    ax.set_xlim(0, 10)\n",
    "    return line,\n",
    "\n",
    "def run(data):\n",
    "    # update the data\n",
    "    time, smooth = data\n",
    "    time_data.append(time)\n",
    "    smooth_data.append(smooth)\n",
    "    x_min, x_max = ax.get_xlim()\n",
    "    y_min, y_max = ax.get_ylim()\n",
    "\n",
    "    if time >= x_max:\n",
    "        ax.set_xlim(x_min, 2*x_max)\n",
    "        ax.figure.canvas.draw()\n",
    "        \n",
    "    if smooth >= y_max:\n",
    "        ax.set_ylim(y_min, 2*y_max)\n",
    "        ax.figure.canvas.draw()\n",
    "    \n",
    "    if smooth <= y_min:\n",
    "        ax.set_ylim(2*y_min, y_max)\n",
    "        ax.figure.canvas.draw()\n",
    "        \n",
    "    line.set_data(time_data, smooth_data)\n",
    "\n",
    "    return line,\n",
    "\n",
    "fig, ax = plt.subplots()\n",
    "line, = ax.plot([], [])\n",
    "time_data, smooth_data = [], []\n",
    "\n",
    "animation = FuncAnimation(fig, run, data_gen, blit=False, interval=100, repeat=False, init_func=init)\n",
    "plt.show()"
   ]
  },
  {
   "cell_type": "code",
   "execution_count": 7,
   "metadata": {
    "collapsed": true
   },
   "outputs": [],
   "source": [
    "coefficients.put(impulse)"
   ]
  },
  {
   "cell_type": "code",
   "execution_count": 8,
   "metadata": {},
   "outputs": [],
   "source": [
    "controller.stop()"
   ]
  },
  {
   "cell_type": "code",
   "execution_count": null,
   "metadata": {
    "collapsed": true
   },
   "outputs": [],
   "source": []
  }
 ],
 "metadata": {
  "kernelspec": {
   "display_name": "Python 3",
   "language": "python",
   "name": "python3"
  },
  "language_info": {
   "codemirror_mode": {
    "name": "ipython",
    "version": 3
   },
   "file_extension": ".py",
   "mimetype": "text/x-python",
   "name": "python",
   "nbconvert_exporter": "python",
   "pygments_lexer": "ipython3",
   "version": "3.6.1"
  }
 },
 "nbformat": 4,
 "nbformat_minor": 2
}
